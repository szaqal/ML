{
 "cells": [
  {
   "cell_type": "code",
   "execution_count": 18,
   "metadata": {},
   "outputs": [],
   "source": [
    "#!pip install idx2numpy\n",
    "import idx2numpy\n",
    "import numpy as np\n",
    "import matplotlib.pyplot as plt\n"
   ]
  },
  {
   "cell_type": "markdown",
   "metadata": {},
   "source": [
    "```\n",
    "wget http://yann.lecun.com/exdb/mnist/train-images-idx3-ubyte.gz\n",
    "wget http://yann.lecun.com/exdb/mnist/train-labels-idx1-ubyte.gz\n",
    "wget http://yann.lecun.com/exdb/mnist/t10k-images-idx3-ubyte.gz\n",
    "wget http://yann.lecun.com/exdb/mnist/t10k-labels-idx1-ubyte.gz\n",
    "```"
   ]
  },
  {
   "cell_type": "code",
   "execution_count": 11,
   "metadata": {},
   "outputs": [
    {
     "name": "stdout",
     "output_type": "stream",
     "text": [
      "(60000, 28, 28)\n",
      "(60000,)\n",
      "(10000, 28, 28)\n",
      "(10000,)\n"
     ]
    }
   ],
   "source": [
    "TRAIN_IMAGE_FILENAME = 'data/train-images-idx3-ubyte'\n",
    "TRAIN_LABEL_FILENAME = 'data/train-labels-idx1-ubyte'\n",
    "TEST_IMAGE_FILENAME = 'data/t10k-images-idx3-ubyte'\n",
    "TEST_LABEL_FILENAME = 'data/t10k-labels-idx1-ubyte'\n",
    "\n",
    "train_images = idx2numpy.convert_from_file(TRAIN_IMAGE_FILENAME)\n",
    "train_labels = idx2numpy.convert_from_file(TRAIN_LABEL_FILENAME)\n",
    "test_images = idx2numpy.convert_from_file(TEST_IMAGE_FILENAME)\n",
    "test_labels = idx2numpy.convert_from_file(TEST_LABEL_FILENAME)\n",
    "\n",
    "print(train_images.shape)\n",
    "print(train_labels.shape)\n",
    "print(test_images.shape)\n",
    "print(test_labels.shape)\n"
   ]
  },
  {
   "cell_type": "code",
   "execution_count": 17,
   "metadata": {},
   "outputs": [
    {
     "name": "stdout",
     "output_type": "stream",
     "text": [
      "                                                         \n",
      "                                                         \n",
      "                                                         \n",
      "                                                         \n",
      "                      *******                     \n",
      "                    ********                     \n",
      "                    *********                   \n",
      "                      ********                   \n",
      "                        *******                   \n",
      "                        *******                   \n",
      "                          ******                   \n",
      "                        *******                   \n",
      "                    *********                   \n",
      "                    *********                   \n",
      "                      ********                   \n",
      "                        *******                   \n",
      "                              *****                 \n",
      "                              *****                 \n",
      "                              ****                   \n",
      "            ***          *****                   \n",
      "            *****  *******                   \n",
      "            ************                     \n",
      "              *********                         \n",
      "                ********                         \n",
      "                                                         \n",
      "                                                         \n",
      "                                                         \n",
      "                                                         \n"
     ]
    }
   ],
   "source": [
    "for line in train_images[10]:\n",
    "    for num in line:\n",
    "        if num > 0:\n",
    "            print('*', end='')\n",
    "        else:\n",
    "            print(' ', end=' ')\n",
    "    print(' ')\n"
   ]
  },
  {
   "cell_type": "markdown",
   "metadata": {},
   "source": [
    "# Learning"
   ]
  },
  {
   "cell_type": "code",
   "execution_count": null,
   "metadata": {},
   "outputs": [],
   "source": [
    "\n",
    "    \n",
    "\n",
    "\n",
    "\n"
   ]
  },
  {
   "cell_type": "code",
   "execution_count": null,
   "metadata": {},
   "outputs": [],
   "source": []
  }
 ],
 "metadata": {
  "kernelspec": {
   "display_name": "Python 3.8.16 ('base')",
   "language": "python",
   "name": "python3"
  },
  "language_info": {
   "codemirror_mode": {
    "name": "ipython",
    "version": 3
   },
   "file_extension": ".py",
   "mimetype": "text/x-python",
   "name": "python",
   "nbconvert_exporter": "python",
   "pygments_lexer": "ipython3",
   "version": "3.8.16"
  },
  "orig_nbformat": 4,
  "vscode": {
   "interpreter": {
    "hash": "1408a261f9c02bb7770af03634e13ea60abc0319e0484ad883ec7256cf460d50"
   }
  }
 },
 "nbformat": 4,
 "nbformat_minor": 2
}
